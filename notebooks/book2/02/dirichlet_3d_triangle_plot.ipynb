{
 "cells": [
  {
   "cell_type": "markdown",
   "id": "f41a083e",
   "metadata": {},
   "source": [
    "# Dirichlet Simplex"
   ]
  },
  {
   "cell_type": "code",
   "execution_count": 3,
   "id": "a234d1f3",
   "metadata": {},
   "outputs": [],
   "source": [
    "import jax.numpy as jnp\n",
    "import matplotlib.pyplot as plt\n",
    "import scipy.spatial\n",
    "import matplotlib.tri as mtri\n",
    "from matplotlib.patches import FancyArrowPatch\n",
    "from mpl_toolkits.mplot3d import proj3d\n",
    "\n",
    "try:\n",
    "    from probml_utils import savefig, latexify\n",
    "except ModuleNotFoundError:\n",
    "    %pip install -qq git+https://github.com/probml/probml-utils.git\n",
    "    from probml_utils import savefig, latexify"
   ]
  },
  {
   "cell_type": "code",
   "execution_count": 10,
   "id": "ccae61ee",
   "metadata": {},
   "outputs": [],
   "source": [
    "latexify(width_scale_factor=2, fig_height=1.5)"
   ]
  },
  {
   "cell_type": "code",
   "execution_count": 11,
   "id": "2a9d63c4",
   "metadata": {},
   "outputs": [],
   "source": [
    "# This class comes from http://stackoverflow.com/questions/22867620/putting-arrowheads-on-vectors-in-matplotlibs-3d-plot\n",
    "class Arrow3D(FancyArrowPatch):\n",
    "    def __init__(self, xs, ys, zs, *args, **kwargs):\n",
    "        super().__init__((0, 0), (0, 0), *args, **kwargs)\n",
    "        self._verts3d = xs, ys, zs\n",
    "\n",
    "    def do_3d_projection(self, renderer=None):\n",
    "        xs3d, ys3d, zs3d = self._verts3d\n",
    "        xs, ys, zs = proj3d.proj_transform(xs3d, ys3d, zs3d, self.axes.M)\n",
    "        self.set_positions((xs[0], ys[0]), (xs[1], ys[1]))\n",
    "\n",
    "        return jnp.min(zs)"
   ]
  },
  {
   "cell_type": "code",
   "execution_count": 21,
   "id": "d4da50a3",
   "metadata": {},
   "outputs": [
    {
     "name": "stdout",
     "output_type": "stream",
     "text": [
      "saving image to /home/tensorboy/Desktop/dirichletSimplex.pdf\n",
      "Figure size: [3.  1.5]\n"
     ]
    },
    {
     "name": "stderr",
     "output_type": "stream",
     "text": [
      "/tmp/ipykernel_92013/287149940.py:34: UserWarning: Matplotlib is currently using ps, which is a non-GUI backend, so cannot show the figure.\n",
      "  plt.show()\n"
     ]
    }
   ],
   "source": [
    "x = [1, 0, 0]\n",
    "y = [0, 1, 0]\n",
    "z = [0, 0, 1]\n",
    "\n",
    "pts = jnp.vstack([x, y]).T\n",
    "tess = scipy.spatial.Delaunay(pts)\n",
    "\n",
    "tri = tess.vertices\n",
    "triang = mtri.Triangulation(x=pts[:, 0], y=pts[:, 1], triangles=tri)\n",
    "\n",
    "fig = plt.figure()\n",
    "ax = plt.axes(projection=\"3d\")\n",
    "ax.plot_trisurf(triang, z, alpha=0.3, color=\"red\", edgecolors=\"blue\")\n",
    "ax.set_axis_off()\n",
    "\n",
    "for i in range(3):\n",
    "    EndPs = [[0, 0], [0, 0], [0, 0]]\n",
    "    EndPs[i][1] = 1.4\n",
    "    art = Arrow3D(EndPs[0], EndPs[1], EndPs[2], mutation_scale=10, lw=1, arrowstyle=\"-|>\", color=\"black\")\n",
    "    ax.add_artist(art)\n",
    "    theta = \"$\\theta_\" + str(i) + \"$\"\n",
    "    EndPs = [[0, 0], [0, 0], [0, 0]]\n",
    "    if i == 0:\n",
    "        EndPs[i][1] = 1\n",
    "        EndPs[2][1] = -0.2\n",
    "    else:\n",
    "        EndPs[i][1] = 1\n",
    "    ax.text(EndPs[0][1], EndPs[1][1], EndPs[2][1], r\"$\\theta_%s$\" % (i + 1), size=8)\n",
    "\n",
    "ax.view_init(elev=30, azim=20)\n",
    "ax.dist = 15\n",
    "\n",
    "savefig(\"dirichletSimplex.pdf\")\n",
    "plt.show()"
   ]
  },
  {
   "cell_type": "code",
   "execution_count": null,
   "id": "546b7a53",
   "metadata": {},
   "outputs": [],
   "source": []
  },
  {
   "cell_type": "code",
   "execution_count": null,
   "id": "8b3c4ed8",
   "metadata": {},
   "outputs": [],
   "source": []
  }
 ],
 "metadata": {
  "kernelspec": {
   "display_name": "prob_ml",
   "language": "python",
   "name": "prob_ml"
  },
  "language_info": {
   "codemirror_mode": {
    "name": "ipython",
    "version": 3
   },
   "file_extension": ".py",
   "mimetype": "text/x-python",
   "name": "python",
   "nbconvert_exporter": "python",
   "pygments_lexer": "ipython3",
   "version": "3.8.10"
  }
 },
 "nbformat": 4,
 "nbformat_minor": 5
}
