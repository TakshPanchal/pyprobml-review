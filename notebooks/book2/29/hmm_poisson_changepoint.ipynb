{
 "cells": [
  {
   "cell_type": "markdown",
   "metadata": {
    "id": "CerscXVN31Wi"
   },
   "source": [
    "# HMM with Poisson observations for detecting changepoints in the rate of a signal"
   ]
  },
  {
   "cell_type": "markdown",
   "metadata": {
    "id": "WlLkQCk_34d6"
   },
   "source": [
    "This notebook is based on the\n",
    "[Multiple Changepoint Detection and Bayesian Model Selection Notebook of TensorFlow](https://www.tensorflow.org/probability/examples/Multiple_changepoint_detection_and_Bayesian_model_selection)"
   ]
  },
  {
   "cell_type": "code",
   "execution_count": 30,
   "metadata": {
    "colab": {
     "base_uri": "https://localhost:8080/"
    },
    "id": "eceu-i1bPOHZ",
    "outputId": "9bc4874c-7f02-41d1-e0f2-a4234f387e9e"
   },
   "outputs": [],
   "source": [
    "import jax\n",
    "import numpy as np\n",
    "import jax.numpy as jnp\n",
    "from jax.scipy import stats\n",
    "from jax import jit, lax, vmap\n",
    "from jax.example_libraries import optimizers\n",
    "import matplotlib.pylab as plt\n",
    "import seaborn as sns\n",
    "\n",
    "try:\n",
    "    import tensorflow as tf\n",
    "except ModuleNotFoundError:\n",
    "    %pip install -qqq tensorflow\n",
    "    import tensorflow as tf\n",
    "\n",
    "try:\n",
    "    import tensorflow_probability as tfp\n",
    "except ModuleNotFoundError:\n",
    "    %pip install -qqq tensorflow-probability\n",
    "    import tensorflow_probability as tfp\n",
    "\n",
    "try:\n",
    "    from probml_utils import savefig, latexify\n",
    "except ModuleNotFoundError:\n",
    "    %pip install -qqq git+https://github.com/probml/probml-utils.git\n",
    "    from probml_utils import savefig, latexify\n",
    "\n",
    "try:\n",
    "    import distrax\n",
    "except ModuleNotFoundError:\n",
    "    %pip install -qqq distrax\n",
    "    import distrax\n",
    "from distrax import HMM\n",
    "from tensorflow_probability.substrates import jax as tfp\n",
    "\n",
    "tfd = tfp.distributions\n",
    "\n",
    "# enable jnp.float64\n",
    "from jax.config import config\n",
    "\n",
    "config.update(\"jax_enable_x64\", True)\n",
    "%matplotlib inline"
   ]
  },
  {
   "cell_type": "markdown",
   "metadata": {
    "id": "U5D7a3SA4lBP"
   },
   "source": [
    "## Data"
   ]
  },
  {
   "cell_type": "markdown",
   "metadata": {
    "id": "jFyTZElr4p-K"
   },
   "source": [
    "The synthetic data corresponds to a single time series of counts, where the rate of the underlying generative process changes at certain points in time."
   ]
  },
  {
   "cell_type": "code",
   "execution_count": 31,
   "metadata": {
    "colab": {
     "base_uri": "https://localhost:8080/"
    },
    "id": "TzmH2jsT3DDk",
    "outputId": "3d938a3e-c5a2-490f-a29e-f8e26ebb84d1"
   },
   "outputs": [],
   "source": [
    "latexify(width_scale_factor=2, fig_height=1.5)"
   ]
  },
  {
   "cell_type": "code",
   "execution_count": 32,
   "metadata": {
    "colab": {
     "base_uri": "https://localhost:8080/",
     "height": 314
    },
    "id": "8TQh8kvg3Pnn",
    "outputId": "5e01a419-2e67-42fd-9ff6-775b22e30673"
   },
   "outputs": [
    {
     "name": "stdout",
     "output_type": "stream",
     "text": [
      "saving image to /home/tensor_boy/Desktop/hmm_poisson_data_latexified.pdf\n",
      "Figure size: [3.  1.5]\n"
     ]
    },
    {
     "data": {
      "image/png": "[encoded data removed]",
      "text/plain": [
       "<Figure size 216x108 with 1 Axes>"
      ]
     },
     "metadata": {
      "needs_background": "light"
     },
     "output_type": "display_data"
    }
   ],
   "source": [
    "# Figure 29.6 (a)\n",
    "true_rates = [40, 3, 20, 50]\n",
    "true_durations = [10, 20, 5, 35]\n",
    "\n",
    "key = jax.random.PRNGKey(42)\n",
    "keys = jax.random.split(key, num=len(true_rates))\n",
    "\n",
    "observed_counts = jnp.concatenate(\n",
    "    [\n",
    "        jax.random.poisson(key, lam=rate, shape=(num_steps,))\n",
    "        for (rate, num_steps, key) in zip(true_rates, true_durations, keys)\n",
    "    ]\n",
    ")\n",
    "\n",
    "plt.figure()\n",
    "plt.plot(observed_counts)\n",
    "plt.xlabel(\"time\")\n",
    "plt.ylabel(\"latent rate\")\n",
    "\n",
    "sns.despine()\n",
    "savefig(\"hmm_poisson_data\")\n",
    "plt.show()"
   ]
  },
  {
   "cell_type": "markdown",
   "metadata": {
    "id": "ZFR_nwenIqfZ"
   },
   "source": [
    "## Model with fixed $K$"
   ]
  },
  {
   "cell_type": "markdown",
   "metadata": {
    "id": "wIfy7113It50"
   },
   "source": [
    "To model the changing Poisson rate, we use an HMM. We initially assume the number of states is known to be $K=4$. Later we will try comparing HMMs with different $K$.\n",
    "\n",
    "We fix the initial state distribution to be uniform, and fix the transition matrix to be the following, where we set $p=0.05$:\n",
    "\n",
    "$$ \\begin{align*} z_1 &\\sim \\text{Categorical}\\left(\\left\\{\\frac{1}{4}, \\frac{1}{4}, \\frac{1}{4}, \\frac{1}{4}\\right\\}\\right)\\\\ z_t | z_{t-1} &\\sim \\text{Categorical}\\left(\\left\\{\\begin{array}{cc}p & \\text{if } z_t = z_{t-1} \\\\ \\frac{1-p}{4-1} & \\text{otherwise}\\end{array}\\right\\}\\right) \\end{align*}$$"
   ]
  },
  {
   "cell_type": "code",
   "execution_count": 33,
   "metadata": {
    "id": "N-qzSZ5Pf_ff"
   },
   "outputs": [],
   "source": [
    "def build_latent_state(num_states, max_num_states, daily_change_prob):\n",
    "    # Give probability 0 to states outside of the current model.\n",
    "    def prob(s):\n",
    "        return jnp.where(s < num_states + 1, 1 / num_states, 0.0)\n",
    "\n",
    "    states = jnp.arange(1, max_num_states + 1)\n",
    "    initial_state_probs = vmap(prob)(states)\n",
    "\n",
    "    # Build a transition matrix that transitions only within the current\n",
    "    # `num_states` states.\n",
    "    def transition_prob(i, s):\n",
    "        return jnp.where(\n",
    "            (s <= num_states) & (i <= num_states) & (1 < num_states),\n",
    "            jnp.where(s == i, 1 - daily_change_prob, daily_change_prob / (num_states - 1)),\n",
    "            jnp.where(s == i, 1, 0),\n",
    "        )\n",
    "\n",
    "    transition_probs = vmap(transition_prob, in_axes=(None, 0))(states, states)\n",
    "\n",
    "    return initial_state_probs, transition_probs"
   ]
  },
  {
   "cell_type": "code",
   "execution_count": 34,
   "metadata": {
    "colab": {
     "base_uri": "https://localhost:8080/"
    },
    "id": "9kj3K0ZNMgMt",
    "outputId": "3321799d-8d8d-4d25-fcc5-4ed104f0742c"
   },
   "outputs": [
    {
     "name": "stdout",
     "output_type": "stream",
     "text": [
      "Initial state probs:\n",
      "[0.25 0.25 0.25 0.25]\n",
      "Transition matrix:\n",
      "[[0.95       0.01666667 0.01666667 0.01666667]\n",
      " [0.01666667 0.95       0.01666667 0.01666667]\n",
      " [0.01666667 0.01666667 0.95       0.01666667]\n",
      " [0.01666667 0.01666667 0.01666667 0.95      ]]\n"
     ]
    }
   ],
   "source": [
    "num_states = 4\n",
    "daily_change_prob = 0.05\n",
    "\n",
    "initial_state_probs, transition_probs = build_latent_state(num_states, num_states, daily_change_prob)\n",
    "print(\"Initial state probs:\\n{}\".format(initial_state_probs))\n",
    "print(\"Transition matrix:\\n{}\".format(transition_probs))"
   ]
  },
  {
   "cell_type": "markdown",
   "metadata": {
    "id": "pFN6ke-9I8W9"
   },
   "source": [
    "Now we create an HMM where the observation distribution is a Poisson with learnable parameters. We specify the parameters in log space and initialize them to random values around the log of the overall mean count (to set the scal"
   ]
  },
  {
   "cell_type": "code",
   "execution_count": 35,
   "metadata": {
    "id": "CI6WIVwZm8Jg"
   },
   "outputs": [],
   "source": [
    "def make_hmm(log_rates, transition_probs, initial_state_probs):\n",
    "    \"\"\"Make a Hidden Markov Model with Poisson observation distribution.\"\"\"\n",
    "    return HMM(\n",
    "        obs_dist=tfd.Poisson(log_rate=log_rates),\n",
    "        trans_dist=distrax.Categorical(probs=transition_probs),\n",
    "        init_dist=distrax.Categorical(probs=initial_state_probs),\n",
    "    )"
   ]
  },
  {
   "cell_type": "code",
   "execution_count": 36,
   "metadata": {
    "id": "jt6SzFviNWt4"
   },
   "outputs": [],
   "source": [
    "rng_key = jax.random.PRNGKey(0)\n",
    "rng_key, rng_normal, rng_poisson = jax.random.split(rng_key, 3)\n",
    "\n",
    "# Define variable to represent the unknown log rates.\n",
    "trainable_log_rates = jnp.log(jnp.mean(observed_counts)) + jax.random.normal(rng_normal, (num_states,))\n",
    "hmm = make_hmm(trainable_log_rates, transition_probs, initial_state_probs)"
   ]
  },
  {
   "cell_type": "markdown",
   "metadata": {
    "id": "wXJ7uij9JFLF"
   },
   "source": [
    "## Model fitting using Gradient Descent"
   ]
  },
  {
   "cell_type": "markdown",
   "metadata": {
    "id": "yPZ-z0caJScE"
   },
   "source": [
    "We compute a MAP estimate of the Poisson rates $\\lambda$ using batch gradient descent, using the Adam optimizer applied to the log likelihood (from the HMM) plus the log prior for $p(\\lambda)$."
   ]
  },
  {
   "cell_type": "code",
   "execution_count": 37,
   "metadata": {
    "id": "Er0w6zaaThZg"
   },
   "outputs": [],
   "source": [
    "def loss_fn(trainable_log_rates, transition_probs, initial_state_probs):\n",
    "    cur_hmm = make_hmm(trainable_log_rates, transition_probs, initial_state_probs)\n",
    "    return -(jnp.sum(rate_prior.log_prob(jnp.exp(trainable_log_rates))) + cur_hmm.forward(observed_counts)[0])\n",
    "\n",
    "\n",
    "def update(i, opt_state, transition_probs, initial_state_probs):\n",
    "    params = get_params(opt_state)\n",
    "    loss, grads = jax.value_and_grad(loss_fn)(params, transition_probs, initial_state_probs)\n",
    "    return opt_update(i, grads, opt_state), loss\n",
    "\n",
    "\n",
    "def fit(trainable_log_rates, transition_probs, initial_state_probs, n_steps):\n",
    "    opt_state = opt_init(trainable_log_rates)\n",
    "\n",
    "    def train_step(opt_state, step):\n",
    "        opt_state, loss = update(step, opt_state, transition_probs, initial_state_probs)\n",
    "        return opt_state, loss\n",
    "\n",
    "    steps = jnp.arange(n_steps)\n",
    "    opt_state, losses = lax.scan(train_step, opt_state, steps)\n",
    "\n",
    "    return get_params(opt_state), losses"
   ]
  },
  {
   "cell_type": "code",
   "execution_count": 38,
   "metadata": {
    "colab": {
     "base_uri": "https://localhost:8080/"
    },
    "id": "gSjyTtkDrOHu",
    "outputId": "75a3ff8f-af55-4472-f5dd-faff180519b4"
   },
   "outputs": [],
   "source": [
    "rate_prior = distrax.LogStddevNormal(5, 5)\n",
    "opt_init, opt_update, get_params = optimizers.adam(1e-1)\n",
    "\n",
    "n_steps = 201\n",
    "params, losses = fit(trainable_log_rates, transition_probs, initial_state_probs, n_steps)\n",
    "rates = jnp.exp(params)\n",
    "hmm = make_hmm(params, transition_probs, initial_state_probs)"
   ]
  },
  {
   "cell_type": "code",
   "execution_count": 39,
   "metadata": {
    "colab": {
     "base_uri": "https://localhost:8080/"
    },
    "id": "TljgKrxri_Px",
    "outputId": "0a419444-5ae6-408e-ae34-53a5d52bce91"
   },
   "outputs": [
    {
     "name": "stdout",
     "output_type": "stream",
     "text": [
      "Inferred rates: [ 3.15003431 38.7935854  18.82220998 51.21996094]\n",
      "True rates: [40, 3, 20, 50]\n"
     ]
    }
   ],
   "source": [
    "print(\"Inferred rates: {}\".format(rates))\n",
    "print(\"True rates: {}\".format(true_rates))"
   ]
  },
  {
   "cell_type": "code",
   "execution_count": 40,
   "metadata": {
    "colab": {
     "base_uri": "https://localhost:8080/",
     "height": 265
    },
    "id": "1qEQfk0WJqGW",
    "outputId": "c5c0aab0-91ad-4760-e348-a48e62c3b6a4"
   },
   "outputs": [
    {
     "data": {
      "image/png": "[encoded data removed]",
      "text/plain": [
       "<Figure size 216x108 with 1 Axes>"
      ]
     },
     "metadata": {
      "needs_background": "light"
     },
     "output_type": "display_data"
    }
   ],
   "source": [
    "plt.figure()\n",
    "plt.plot(losses)\n",
    "plt.ylabel(\"Negative log marginal likelihood\");"
   ]
  },
  {
   "cell_type": "markdown",
   "metadata": {
    "id": "2E6o_kGKJ81Z"
   },
   "source": [
    "We see that the method learned a good approximation to the true (generating) parameters, up to a permutation of the states (since the labels are unidentifiable). However, results can vary with different random seeds. We may find that the rates are the same for some states, which means those states are being treated as identical, and are therefore redundant."
   ]
  },
  {
   "cell_type": "markdown",
   "metadata": {
    "id": "fM_JX-feJ_pG"
   },
   "source": [
    "## Plotting the posterior over states"
   ]
  },
  {
   "cell_type": "code",
   "execution_count": 41,
   "metadata": {
    "id": "1EO0gw2klz5Z"
   },
   "outputs": [],
   "source": [
    "_, _, posterior_probs, _ = hmm.forward_backward(observed_counts)"
   ]
  },
  {
   "cell_type": "code",
   "execution_count": 42,
   "metadata": {
    "colab": {
     "base_uri": "https://localhost:8080/",
     "height": 729
    },
    "id": "oZ7C937t-Xh3",
    "outputId": "630be240-8458-4375-8e70-a08028717629"
   },
   "outputs": [
    {
     "data": {
      "image/png": "[encoded data removed]",
      "text/plain": [
       "<Figure size 720x720 with 8 Axes>"
      ]
     },
     "metadata": {
      "needs_background": "light"
     },
     "output_type": "display_data"
    }
   ],
   "source": [
    "def plot_state_posterior(ax, state_posterior_probs, title):\n",
    "    ln1 = ax.plot(state_posterior_probs, c=\"tab:blue\", lw=3, label=\"p(state | counts)\")\n",
    "    ax.set_ylim(0.0, 1.1)\n",
    "    ax.set_ylabel(\"posterior probability\")\n",
    "    ax2 = ax.twinx()\n",
    "    ln2 = ax2.plot(observed_counts, c=\"black\", alpha=0.3, label=\"observed counts\")\n",
    "    ax2.set_title(title)\n",
    "    ax2.set_xlabel(\"time\")\n",
    "    lns = ln1 + ln2\n",
    "    labs = [l.get_label() for l in lns]\n",
    "    ax.legend(lns, labs, loc=4)\n",
    "    ax.grid(True, color=\"white\")\n",
    "    ax2.grid(False)\n",
    "\n",
    "\n",
    "fig = plt.figure(figsize=(10, 10))\n",
    "plot_state_posterior(fig.add_subplot(2, 2, 1), posterior_probs[:, 0], title=\"state 0 (rate {:.2f})\".format(rates[0]))\n",
    "plot_state_posterior(fig.add_subplot(2, 2, 2), posterior_probs[:, 1], title=\"state 1 (rate {:.2f})\".format(rates[1]))\n",
    "plot_state_posterior(fig.add_subplot(2, 2, 3), posterior_probs[:, 2], title=\"state 2 (rate {:.2f})\".format(rates[2]))\n",
    "plot_state_posterior(fig.add_subplot(2, 2, 4), posterior_probs[:, 3], title=\"state 3 (rate {:.2f})\".format(rates[3]))\n",
    "plt.tight_layout()\n",
    "plt.show()"
   ]
  },
  {
   "cell_type": "code",
   "execution_count": 43,
   "metadata": {
    "colab": {
     "base_uri": "https://localhost:8080/"
    },
    "id": "oBhqUUBUKV7Q",
    "outputId": "22d8fbbd-ba77-4e13-f93a-1aff64e31a04"
   },
   "outputs": [
    {
     "name": "stdout",
     "output_type": "stream",
     "text": [
      "[ 3.15003431 38.7935854  18.82220998 51.21996094]\n"
     ]
    }
   ],
   "source": [
    "print(rates)"
   ]
  },
  {
   "cell_type": "code",
   "execution_count": 44,
   "metadata": {
    "id": "GSFx4aCb0lZU"
   },
   "outputs": [],
   "source": [
    "# max marginals\n",
    "most_probable_states = jnp.argmax(posterior_probs, axis=-1)\n",
    "most_probable_rates = rates[most_probable_states]"
   ]
  },
  {
   "cell_type": "code",
   "execution_count": 45,
   "metadata": {
    "colab": {
     "base_uri": "https://localhost:8080/",
     "height": 295
    },
    "id": "84hUzqYn2Nky",
    "outputId": "cc6d1cf1-3cbb-4af8-819a-c243b84e395b"
   },
   "outputs": [
    {
     "data": {
      "image/png": "[encoded data removed]",
      "text/plain": [
       "<Figure size 216x108 with 1 Axes>"
      ]
     },
     "metadata": {
      "needs_background": "light"
     },
     "output_type": "display_data"
    }
   ],
   "source": [
    "fig = plt.figure()\n",
    "ax = fig.add_subplot(1, 1, 1)\n",
    "ax.plot(most_probable_rates, c=\"tab:green\", lw=3, label=\"inferred rate\")\n",
    "ax.plot(observed_counts, c=\"black\", alpha=0.3, label=\"observed counts\")\n",
    "ax.set_ylabel(\"latent rate\")\n",
    "ax.set_xlabel(\"time\")\n",
    "ax.set_title(\"Inferred latent rate over time\")\n",
    "ax.legend(loc=4)\n",
    "plt.show()"
   ]
  },
  {
   "cell_type": "code",
   "execution_count": 46,
   "metadata": {
    "colab": {
     "base_uri": "https://localhost:8080/"
    },
    "id": "Cv5_vI8d2Pkf",
    "outputId": "e3de475c-e8f3-4d80-d523-2bc86858d165"
   },
   "outputs": [],
   "source": [
    "# max probaility trajectory (Viterbi)\n",
    "most_probable_states = hmm.viterbi(observed_counts)\n",
    "most_probable_rates = rates[most_probable_states]"
   ]
  },
  {
   "cell_type": "code",
   "execution_count": 47,
   "metadata": {
    "colab": {
     "base_uri": "https://localhost:8080/",
     "height": 295
    },
    "id": "g8kKmL5f2vAf",
    "outputId": "7ed9c476-c82c-417c-eb72-582da9368ff6"
   },
   "outputs": [
    {
     "name": "stdout",
     "output_type": "stream",
     "text": [
      "saving image to /home/tensor_boy/Desktop/hmm_poisson_4states_segmentation_latexified.pdf\n",
      "Figure size: [3.  1.5]\n"
     ]
    },
    {
     "data": {
      "image/png": "[encoded data removed]",
      "text/plain": [
       "<Figure size 216x108 with 1 Axes>"
      ]
     },
     "metadata": {
      "needs_background": "light"
     },
     "output_type": "display_data"
    }
   ],
   "source": [
    "# Figure 29.6 (b)\n",
    "plt.figure()\n",
    "color_list = np.array([\"tab:red\", \"tab:green\", \"tab:blue\", \"k\"])\n",
    "colors = color_list[most_probable_states]\n",
    "\n",
    "for i in range(len(colors)):\n",
    "    plt.plot(i, most_probable_rates[i], \"-o\", c=colors[i], mew=1, ms=2, alpha=0.75)\n",
    "plt.plot(observed_counts, c=\"black\", alpha=0.3, label=\"observed counts\")\n",
    "plt.ylabel(\"latent rate\")\n",
    "plt.xlabel(\"time\")\n",
    "plt.title(\"Inferred latent rate over time\")\n",
    "\n",
    "sns.despine()\n",
    "savefig(\"hmm_poisson_4states_segmentation\")\n",
    "plt.show()"
   ]
  },
  {
   "cell_type": "markdown",
   "metadata": {
    "id": "_RnpDkTKK4el"
   },
   "source": [
    "## Model with unknown $K$"
   ]
  },
  {
   "cell_type": "markdown",
   "metadata": {
    "id": "pd-iztMNLBIb"
   },
   "source": [
    "In general we don't know the true number of states. One way to select the 'best' model is to compute the one with the maximum marginal likelihood. Rather than summing over both discrete latent states and integrating over the unknown parameters $\\lambda$, we just maximize over the parameters (empirical Bayes approximation).\n",
    "\n",
    "$$p(x_{1:T}|K) \\approx \\max_\\lambda \\int p(x_{1:T}, z_{1:T} | \\lambda, K) dz$$\n",
    "We can do this by fitting a bank of separate HMMs in parallel, one for each value of $K$. We need to make them all the same size so we can batch them efficiently. To do this, we pad the transition matrices (and other paraemeter vectors) so they all have the same shape, and then use masking."
   ]
  },
  {
   "cell_type": "code",
   "execution_count": 48,
   "metadata": {
    "colab": {
     "base_uri": "https://localhost:8080/"
    },
    "id": "628zP3kx2hg6",
    "outputId": "c6771707-0420-43aa-f157-019a61f254e6"
   },
   "outputs": [
    {
     "name": "stdout",
     "output_type": "stream",
     "text": [
      "Shape of initial_state_probs: (6, 6)\n",
      "Shape of transition probs: (6, 6, 6)\n",
      "Example initial state probs for num_states==3:\n",
      "[0.33333333 0.33333333 0.33333333 0.         0.         0.        ]\n",
      "Example transition_probs for num_states==3:\n",
      "[[0.95  0.025 0.025 0.    0.    0.   ]\n",
      " [0.025 0.95  0.025 0.    0.    0.   ]\n",
      " [0.025 0.025 0.95  0.    0.    0.   ]\n",
      " [0.    0.    0.    1.    0.    0.   ]\n",
      " [0.    0.    0.    0.    1.    0.   ]\n",
      " [0.    0.    0.    0.    0.    1.   ]]\n"
     ]
    }
   ],
   "source": [
    "max_num_states = 6\n",
    "states = jnp.arange(1, max_num_states + 1)\n",
    "\n",
    "# For each candidate model, build the initial state prior and transition matrix.\n",
    "batch_initial_state_probs, batch_transition_probs = vmap(build_latent_state, in_axes=(0, None, None))(\n",
    "    states, max_num_states, daily_change_prob\n",
    ")\n",
    "\n",
    "print(\"Shape of initial_state_probs: {}\".format(batch_initial_state_probs.shape))\n",
    "print(\"Shape of transition probs: {}\".format(batch_transition_probs.shape))\n",
    "print(\"Example initial state probs for num_states==3:\\n{}\".format(batch_initial_state_probs[2, :]))\n",
    "print(\"Example transition_probs for num_states==3:\\n{}\".format(batch_transition_probs[2, :, :]))"
   ]
  },
  {
   "cell_type": "code",
   "execution_count": 49,
   "metadata": {
    "id": "4_via5B93S0T"
   },
   "outputs": [],
   "source": [
    "rng_key, rng_normal = jax.random.split(rng_key)\n",
    "\n",
    "# Define variable to represent the unknown log rates.\n",
    "trainable_log_rates = jnp.log(jnp.mean(observed_counts)) + jax.random.normal(rng_normal, (max_num_states,))"
   ]
  },
  {
   "cell_type": "markdown",
   "metadata": {
    "id": "kElabi3wjiRf"
   },
   "source": [
    "## Model fitting with gradient descent"
   ]
  },
  {
   "cell_type": "code",
   "execution_count": 50,
   "metadata": {
    "id": "3rOAqjPdjLWV"
   },
   "outputs": [],
   "source": [
    "n_steps = 201\n",
    "params, losses = vmap(fit, in_axes=(None, 0, 0, None))(\n",
    "    trainable_log_rates, batch_transition_probs, batch_initial_state_probs, n_steps\n",
    ")\n",
    "rates = jnp.exp(params)"
   ]
  },
  {
   "cell_type": "code",
   "execution_count": 51,
   "metadata": {
    "colab": {
     "base_uri": "https://localhost:8080/",
     "height": 265
    },
    "id": "IuqR_1P5kBBX",
    "outputId": "438d8be8-33ac-485d-a172-493b6eda90be"
   },
   "outputs": [
    {
     "data": {
      "image/png": "[encoded data removed]",
      "text/plain": [
       "<Figure size 216x108 with 1 Axes>"
      ]
     },
     "metadata": {
      "needs_background": "light"
     },
     "output_type": "display_data"
    }
   ],
   "source": [
    "plt.figure()\n",
    "plt.plot(losses.T)\n",
    "plt.ylabel(\"Negative log marginal likelihood\")\n",
    "plt.show()"
   ]
  },
  {
   "cell_type": "markdown",
   "metadata": {
    "id": "7FTjbb4Qj1pQ"
   },
   "source": [
    "## Plot marginal likelihood of each model"
   ]
  },
  {
   "cell_type": "code",
   "execution_count": 52,
   "metadata": {},
   "outputs": [],
   "source": [
    "latexify(width_scale_factor=2, fig_height=1.5)"
   ]
  },
  {
   "cell_type": "code",
   "execution_count": 53,
   "metadata": {
    "colab": {
     "base_uri": "https://localhost:8080/",
     "height": 330
    },
    "id": "fe7CQTO9OuA8",
    "outputId": "73ecd037-713a-4e56-94b2-878fe1c19394"
   },
   "outputs": [
    {
     "name": "stdout",
     "output_type": "stream",
     "text": [
      "saving image to /home/tensor_boy/Desktop/poisson_hmm_marglik_vs_k_latexified.pdf\n",
      "Figure size: [3.  1.5]\n"
     ]
    },
    {
     "data": {
      "image/png": "[encoded data removed]",
      "text/plain": [
       "<Figure size 216x108 with 1 Axes>"
      ]
     },
     "metadata": {
      "needs_background": "light"
     },
     "output_type": "display_data"
    }
   ],
   "source": [
    "# fig 29.8\n",
    "plt.figure()\n",
    "plt.plot(-losses[:, -1])\n",
    "plt.ylim([-400, -200])\n",
    "plt.ylabel(\"marginal likelihood \\n $\\\\tilde{p}(x)$\")\n",
    "plt.xlabel(\"number of latent states\")\n",
    "plt.title(\"Model selection on latent states\")\n",
    "\n",
    "sns.despine()\n",
    "savefig(\"poisson_hmm_marglik_vs_k\")\n",
    "plt.show()"
   ]
  },
  {
   "cell_type": "markdown",
   "metadata": {
    "id": "7aJLgl4NkegW"
   },
   "source": [
    "## Plot posteriors"
   ]
  },
  {
   "cell_type": "code",
   "execution_count": 54,
   "metadata": {
    "colab": {
     "base_uri": "https://localhost:8080/"
    },
    "id": "Lljaow1JOw1H",
    "outputId": "038a6396-1a14-43d5-a6b1-38bb48704107"
   },
   "outputs": [
    {
     "name": "stdout",
     "output_type": "stream",
     "text": [
      "rates for 1-state model: [33.37082077]\n",
      "rates for 2-state model: [ 3.57130892 46.14021407]\n",
      "rates for 3-state model: [ 3.14980701 19.63675742 48.64820933]\n",
      "rates for 4-state model: [18.82140537 51.21999666 38.79327666  3.15017122]\n",
      "rates for 5-state model: [38.76207624 48.95703815 18.81671773  3.15015665 51.66946344]\n",
      "rates for 6-state model: [38.79805872 63.09552137 38.7983422  18.81213053 51.17655488  3.15011435]\n"
     ]
    }
   ],
   "source": [
    "for i, learned_model_rates in enumerate(rates):\n",
    "    print(\"rates for {}-state model: {}\".format(i + 1, learned_model_rates[: i + 1]))"
   ]
  },
  {
   "cell_type": "code",
   "execution_count": 55,
   "metadata": {
    "id": "y7OEgXe6P5ro"
   },
   "outputs": [],
   "source": [
    "def posterior_marginals(trainable_log_rates, initial_state_probs, transition_probs):\n",
    "    hmm = make_hmm(trainable_log_rates, transition_probs, initial_state_probs)\n",
    "    _, _, marginals, _ = hmm.forward_backward(observed_counts)\n",
    "    return marginals\n",
    "\n",
    "\n",
    "posterior_probs = vmap(posterior_marginals, in_axes=(0, 0, 0))(\n",
    "    params, batch_initial_state_probs, batch_transition_probs\n",
    ")\n",
    "most_probable_states = jnp.argmax(posterior_probs, axis=-1)"
   ]
  },
  {
   "cell_type": "code",
   "execution_count": 56,
   "metadata": {
    "colab": {
     "base_uri": "https://localhost:8080/"
    },
    "id": "JIp_ndoc8hLu",
    "outputId": "aeb35019-340d-4a2f-ba4c-52e211531789"
   },
   "outputs": [],
   "source": [
    "latexify(width_scale_factor=1, fig_height=3)"
   ]
  },
  {
   "cell_type": "code",
   "execution_count": 57,
   "metadata": {
    "colab": {
     "base_uri": "https://localhost:8080/",
     "height": 212
    },
    "id": "r8aaKsNiRAxs",
    "outputId": "1a04de6c-a8ca-47ed-ca8f-039b840a5c2f"
   },
   "outputs": [
    {
     "name": "stderr",
     "output_type": "stream",
     "text": [
      "/home/tensor_boy/dev/probml_env/lib/python3.10/site-packages/probml_utils/plotting.py:69: UserWarning: renaming /home/tensor_boy/Desktop/hmm_poisson_segmentation_1to6.pdf to /home/tensor_boy/Desktop/hmm_poisson_segmentation_1to6_latexified.pdf because LATEXIFY is True\n",
      "  warnings.warn(\n"
     ]
    },
    {
     "name": "stdout",
     "output_type": "stream",
     "text": [
      "saving image to /home/tensor_boy/Desktop/hmm_poisson_segmentation_1to6_latexified.pdf\n",
      "Figure size: [6. 3.]\n"
     ]
    },
    {
     "data": {
      "image/png": "[encoded data removed]",
      "text/plain": [
       "<Figure size 432x216 with 6 Axes>"
      ]
     },
     "metadata": {
      "needs_background": "light"
     },
     "output_type": "display_data"
    }
   ],
   "source": [
    "# 29.7\n",
    "fig, axes = plt.subplots(nrows=2, ncols=3, sharex=True, sharey=True)\n",
    "\n",
    "for i, learned_model_rates in enumerate(rates):\n",
    "    ax = axes[i // 3, i - (i // 3 * 3)]\n",
    "    ax.plot(learned_model_rates[most_probable_states[i]], c=\"green\", label=\"inferred rate\")\n",
    "    ax.plot(observed_counts, c=\"black\", alpha=0.3, label=\"observed counts\")\n",
    "\n",
    "    if i % 3 == 0:\n",
    "        ax.set_ylabel(\"latent rate\")\n",
    "    if i // 3 == 1:\n",
    "        ax.set_xlabel(\"time\")\n",
    "    ax.set_title(f\"{i+1}-state model\")\n",
    "\n",
    "sns.despine()\n",
    "fig.tight_layout()\n",
    "\n",
    "savefig(\"hmm_poisson_segmentation_1to6.pdf\")"
   ]
  },
  {
   "cell_type": "code",
   "execution_count": null,
   "metadata": {
    "id": "MI8HnLxC_Dpt"
   },
   "outputs": [],
   "source": []
  }
 ],
 "metadata": {
  "colab": {
   "collapsed_sections": [],
   "name": "hmm_poisson_changepoint.ipynb",
   "provenance": []
  },
  "kernelspec": {
   "display_name": "probml_env",
   "language": "python",
   "name": "probml_env"
  },
  "language_info": {
   "codemirror_mode": {
    "name": "ipython",
    "version": 3
   },
   "file_extension": ".py",
   "mimetype": "text/x-python",
   "name": "python",
   "nbconvert_exporter": "python",
   "pygments_lexer": "ipython3",
   "version": "3.10.4"
  }
 },
 "nbformat": 4,
 "nbformat_minor": 1
}
